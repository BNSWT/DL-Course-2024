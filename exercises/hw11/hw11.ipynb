{
 "cells": [
  {
   "cell_type": "markdown",
   "metadata": {},
   "source": [
    "# Homework 11 - Single-cell RNA-Seq Visualization (Optional)\n",
    "\n",
    "This assignment is optional and provided as an example of the final project. Please implement visualization results and write a tech report with experiment results."
   ]
  },
  {
   "cell_type": "code",
   "execution_count": 7,
   "metadata": {},
   "outputs": [],
   "source": [
    "### Prepare the environment\n",
    "# conda create -n xxx python=3.8\n",
    "# conda activate xxx\n",
    "# pip install -r requirements.txt"
   ]
  },
  {
   "cell_type": "code",
   "execution_count": 1,
   "metadata": {},
   "outputs": [
    {
     "name": "stderr",
     "output_type": "stream",
     "text": [
      "/opt/anaconda3/envs/torch1.10/lib/python3.8/site-packages/tqdm-4.64.0-py3.8.egg/tqdm/auto.py:22: TqdmWarning: IProgress not found. Please update jupyter and ipywidgets. See https://ipywidgets.readthedocs.io/en/stable/user_install.html\n",
      "  from .autonotebook import tqdm as notebook_tqdm\n"
     ]
    }
   ],
   "source": [
    "from dv_train import dvnet_train\n",
    "from scipy.io import mmread\n",
    "\n",
    "import pandas as pd\n",
    "import numpy as np\n",
    "import plotly.io as plt_io\n",
    "import plotly.graph_objects as go\n",
    "import scanpy as sc\n",
    "import manifolds.poincare as poincare\n",
    "import matplotlib.pyplot as plt\n",
    "import seaborn as sns; sns.set()\n",
    "import torch"
   ]
  },
  {
   "cell_type": "code",
   "execution_count": 2,
   "metadata": {},
   "outputs": [],
   "source": [
    "def read_mtx(filename, dtype='int32'):\n",
    "    x = mmread(filename).astype(dtype)\n",
    "    return x"
   ]
  },
  {
   "cell_type": "code",
   "execution_count": 3,
   "metadata": {},
   "outputs": [],
   "source": [
    "def Loaddataset(name='cd14'):\n",
    "\n",
    "    # Load singcell RNA-seq data\n",
    "    if name == 'cd14': # \n",
    "        mtx = './data/cd14_monocyte_erythrocyte.mtx'\n",
    "        data = read_mtx(mtx)\n",
    "        data = np.asarray(data.transpose().todense())\n",
    "        label = pd.read_csv('data/cd14_monocyte_erythrocyte_celltype.tsv', sep='\\t', header=None).values\n",
    "        label_batch = None\n",
    "        batch_class = [1]\n",
    "\n",
    "    if name == 'lung':\n",
    "        mtx = './data/lung_human_ASK440.mtx' # https://www.ncbi.nlm.nih.gov/geo/query/acc.cgi?acc=GSE130148\n",
    "        data = read_mtx(mtx)\n",
    "        data = np.asarray(data.transpose().todense())\n",
    "        label = pd.read_csv('data/lung_human_ASK440_celltype.tsv', sep='\\t', header=None).values\n",
    "        label_batch = None\n",
    "        batch_class = [1]\n",
    "\n",
    "    if name == 'celegan': \n",
    "        mtx = './data/celegan.mtx' # https://www.ncbi.nlm.nih.gov/geo/query/acc.cgi?acc=GSE126954\n",
    "        data = read_mtx(mtx)\n",
    "        data = np.asarray(data.transpose().todense())\n",
    "        label = pd.read_csv('data/celegan_embryo_time.tsv', sep='\\t', header=None).values\n",
    "        # label = pd.read_csv('data/celegan_celltype.tsv', sep='\\t', header=None).values\n",
    "        label_batch_ = pd.read_csv('data/celegan_batch.tsv', header=None)\n",
    "        label_batch = np.asarray(pd.concat([label_batch_, label_batch_], axis=1))\n",
    "        batch_class = [7, 7]\n",
    "\n",
    "    if name == 'uc_stromal':\n",
    "        mtx = './data/uc_stromal.mtx' # https://singlecell.broadinstitute.org/single_cell/study/SCP259\n",
    "        data = read_mtx(mtx)\n",
    "        data = np.asarray(data.transpose().todense())\n",
    "        label = pd.read_csv('data/uc_stromal_celltype.tsv', sep='\\t', header=None).values\n",
    "        label_batch_p = pd.read_csv('data/uc_stromal_batch_patient.tsv', header=None)\n",
    "        label_batch_h = pd.read_csv('data/uc_stromal_batch_health.tsv', header=None)\n",
    "        label_batch = np.asarray(pd.concat([label_batch_p, label_batch_h], axis=1))\n",
    "        batch_class = [30, 3]\n",
    "\n",
    "    if name == 'uc_epi': # https://singlecell.broadinstitute.org/single_cell/study/SCP259\n",
    "        mtx = './data/uc_epi.mtx'\n",
    "        data = read_mtx(mtx)\n",
    "        data = np.asarray(data.transpose().todense())\n",
    "        label = pd.read_csv('data/uc_epi_celltype.tsv', sep='\\t', header=None).values\n",
    "        label_batch_p = pd.read_csv('data/uc_epi_batch_patient.tsv', header=None)\n",
    "        label_batch_h = pd.read_csv('data/uc_epi_batch_health.tsv', header=None)\n",
    "        label_batch_l = pd.read_csv('data/uc_epi_batch_location.tsv', header=None)\n",
    "        label_batch = np.asarray(pd.concat([label_batch_p, label_batch_h, label_batch_l], axis=1))\n",
    "        batch_class = [30, 3, 2]\n",
    "\n",
    "    return data, label, label_batch, batch_class"
   ]
  },
  {
   "cell_type": "code",
   "execution_count": 5,
   "metadata": {},
   "outputs": [],
   "source": [
    "data, label, label_batch, batch_class = Loaddataset(name='lung')"
   ]
  },
  {
   "cell_type": "code",
   "execution_count": 6,
   "metadata": {},
   "outputs": [],
   "source": [
    "####### \"manifold\" hyperparameter: \"Euclidean\" means to choose the Euclidean embedding space, \"PoincareBall\" or \"Hyperboloid\" means to choose the hyperbolic space \n",
    "mod_config = {\n",
    "    \"data_name\": \"SingleCell\",\n",
    "    \"nu\": 1e-3, # hyperparameter for similarity >> range (5e-3 ~ 1e-2)\n",
    "    \"num_latent_dim\": 2, # latent space dimension >> range (5e-3 ~ 1e-2)\n",
    "    \"gamma\": 10, # hyperparamer for augmentation >> range (10, 100, 1000, 10000)\n",
    "    \"beta\": 100, # hyperparameter for batch correction >> range (1e-2 ~ 100)\n",
    "    \"manifold\": \"Hyperboloid\", # manfiold space >> Euclidean, PoincareBall, Hyperboloid\n",
    "    \"batch_class\": batch_class, # number of batch\n",
    "    \"raw_data\": data,\n",
    "    \"raw_label\": label,\n",
    "    \"raw_label_batch\": label_batch,\n",
    "    \"gpu\": 0, # whether to use gpu: 1\n",
    "    }"
   ]
  },
  {
   "cell_type": "code",
   "execution_count": 7,
   "metadata": {},
   "outputs": [
    {
     "name": "stderr",
     "output_type": "stream",
     "text": [
      "GPU available: True, used: False\n",
      "TPU available: None, using: 0 TPU cores\n"
     ]
    },
    {
     "name": "stdout",
     "output_type": "stream",
     "text": [
      "Generator(\n",
      "  (model): Sequential(\n",
      "    (0): Linear(in_features=50, out_features=500, bias=True)\n",
      "    (1): BatchNorm1d(500, eps=1e-05, momentum=0.1, affine=True, track_running_stats=True)\n",
      "    (2): LeakyReLU(negative_slope=0.1)\n",
      "    (3): Linear(in_features=500, out_features=300, bias=True)\n",
      "    (4): BatchNorm1d(300, eps=1e-05, momentum=0.1, affine=True, track_running_stats=True)\n",
      "    (5): LeakyReLU(negative_slope=0.1)\n",
      "    (6): Linear(in_features=300, out_features=100, bias=True)\n",
      "    (7): BatchNorm1d(100, eps=1e-05, momentum=0.1, affine=True, track_running_stats=True)\n",
      "    (8): LeakyReLU(negative_slope=0.1)\n",
      "  )\n",
      ")\n",
      "Classifier(\n",
      "  (model): Sequential(\n",
      "    (0): Linear(in_features=100, out_features=300, bias=True)\n",
      "    (1): BatchNorm1d(300, eps=1e-05, momentum=0.1, affine=True, track_running_stats=True)\n",
      "    (2): LeakyReLU(negative_slope=0.1)\n",
      "    (3): Linear(in_features=300, out_features=100, bias=True)\n",
      "    (4): BatchNorm1d(100, eps=1e-05, momentum=0.1, affine=True, track_running_stats=True)\n",
      "    (5): LeakyReLU(negative_slope=0.1)\n",
      "    (6): Linear(in_features=100, out_features=3, bias=True)\n",
      "  )\n",
      ")\n"
     ]
    },
    {
     "name": "stderr",
     "output_type": "stream",
     "text": [
      "/opt/anaconda3/envs/torch1.10/lib/python3.8/site-packages/pytorch_lightning/utilities/distributed.py:49: UserWarning: GPU available but not used. Set the --gpus flag when calling the script.\n",
      "  warnings.warn(*args, **kwargs)\n"
     ]
    },
    {
     "name": "stdout",
     "output_type": "stream",
     "text": [
      "use kNN method to find the sigma\n"
     ]
    },
    {
     "name": "stderr",
     "output_type": "stream",
     "text": [
      "\n",
      "  | Name           | Type        | Params\n",
      "-----------------------------------------------\n",
      "0 | rie_pro_input  | ToEuclidean | 0     \n",
      "1 | rie_pro_latent | ToLorentz   | 0     \n",
      "2 | generator      | Generator   | 207 K \n",
      "3 | classifier     | Classifier  | 61.5 K\n",
      "4 | Loss           | MyLoss      | 0     \n",
      "5 | criterion      | MSELoss     | 0     \n",
      "-----------------------------------------------\n",
      "269 K     Trainable params\n",
      "0         Non-trainable params\n",
      "269 K     Total params\n",
      "/opt/anaconda3/envs/torch1.10/lib/python3.8/site-packages/pytorch_lightning/utilities/distributed.py:49: UserWarning: The dataloader, val dataloader 0, does not have many workers which may be a bottleneck. Consider increasing the value of the `num_workers` argument` (try 48 which is the number of cpus on this machine) in the `DataLoader` init to improve performance.\n",
      "  warnings.warn(*args, **kwargs)\n"
     ]
    },
    {
     "name": "stdout",
     "output_type": "stream",
     "text": [
      "                                                                      "
     ]
    },
    {
     "name": "stderr",
     "output_type": "stream",
     "text": [
      "/opt/anaconda3/envs/torch1.10/lib/python3.8/site-packages/pytorch_lightning/utilities/distributed.py:49: UserWarning: The dataloader, train dataloader, does not have many workers which may be a bottleneck. Consider increasing the value of the `num_workers` argument` (try 48 which is the number of cpus on this machine) in the `DataLoader` init to improve performance.\n",
      "  warnings.warn(*args, **kwargs)\n"
     ]
    },
    {
     "name": "stdout",
     "output_type": "stream",
     "text": [
      "Epoch 199: 100%|██████████| 14/14 [02:00<00:00,  8.62s/it, loss=0.00604, v_num=0]\n"
     ]
    }
   ],
   "source": [
    "embedding = dvnet_train(mod_config) # main function: dimensionality reduction and visualization method for single cell with/without batch effect"
   ]
  },
  {
   "cell_type": "code",
   "execution_count": 8,
   "metadata": {},
   "outputs": [
    {
     "name": "stdout",
     "output_type": "stream",
     "text": [
      "The history saving thread hit an unexpected error (OperationalError('database or disk is full')).History will not be written to the database.\n"
     ]
    }
   ],
   "source": [
    "# for hyperbolic method\n",
    "class PoincareMaps:\n",
    "    def __init__(self, coordinates, model_name='dv', cpalette=None):\n",
    "        self.coordinates = coordinates\n",
    "        self.distances = None       \n",
    "        self.radius = np.sqrt(coordinates[:,0]**2 + coordinates[:,1]**2)\n",
    "        self.iroot = np.argmin(self.radius)\n",
    "        self.labels_pos = None\n",
    "        self.model_name = model_name\n",
    "        colors_palette = ['#1F77B4', '#FF7F0E', '#2CA02C', '#D62728', '#9467BD',\n",
    "                '#8C564B', '#E377C2', '#BCBD22', '#17BECF', '#40004B',\n",
    "                '#762A83', '#9970AB', '#C2A5CF', '#E7D4E8', '#F7F7F7',\n",
    "                '#D9F0D3', '#A6DBA0', '#5AAE61', '#1B7837', '#00441B',\n",
    "                '#8DD3C7', '#FFFFB3', '#BEBADA', '#FB8072', '#80B1D3',\n",
    "                '#FDB462', '#B3DE69', '#FCCDE5', '#D9D9D9', '#BC80BD',\n",
    "                '#CCEBC5', '#FFED6F', '#edf8b1', '#c7e9b4', '#7fcdbb',\n",
    "                '#41b6c4', '#1d91c0', '#225ea8', '#253494', '#081d58']\n",
    "        if cpalette is None:\n",
    "            self.colors_palette = colors_palette\n",
    "        else:\n",
    "            self.colors_palette = cpalette\n",
    "\n",
    "    def poincare_distance(self, x):\n",
    "        PoincareBall = poincare.PoincareBall()\n",
    "        dist = PoincareBall.sqdist_xu_mobius_v2(x, x, c=1)\n",
    "        dist = dist.clamp(min=1e-22)\n",
    "        return dist\n",
    "\n",
    "    def get_geodesic_parameters(self, u, v, eps=1e-10):\n",
    "        if all(u) == 0:\n",
    "            u = np.array([eps, eps])\n",
    "        if all(v) == 0:\n",
    "            v = np.array([eps, eps])\n",
    "\n",
    "        nu = u[0]**2 + u[1]**2\n",
    "        nv = v[0]**2 + v[1]**2\n",
    "        a = (u[1]*nv - v[1]*nu + u[1] - v[1]) / (u[0]*v[1] - u[1]*v[0])\n",
    "        b = (v[0]*nu - u[0]*nv + v[0] - u[0]) / (u[0]*v[1] - u[1]*v[0])\n",
    "        return a, b\n",
    "\n",
    "    def plot_poincare_disc(self, x, manifold=None, radius=None, labels=None, model_name=None,\n",
    "        labels_name='labels', labels_order=None, labels_pos=None, labels_text=None,\n",
    "                        coldict=None,\n",
    "                        d1=4.5, d2=4.0, fs=9, ms=20,\n",
    "                        u=None, v=None, alpha=1.0,\n",
    "                        col_palette=plt.get_cmap(\"tab10\"), print_labels=True,\n",
    "                        bbox=(1.3, 0.7), leg=True, ft='png'):\n",
    "\n",
    "        idx = np.random.permutation(len(x))\n",
    "        df = pd.DataFrame(x[idx, :], columns=['pm1', 'pm2'])\n",
    "        \n",
    "        fig = plt.figure(figsize=(d1, d2))\n",
    "        ax = plt.gca()\n",
    "\n",
    "        if manifold != 'Euclidean':\n",
    "            circle = plt.Circle((0, 0), radius=radius,  fc='none', color='black')\n",
    "            ax.add_patch(circle)\n",
    "        ax.plot(0, 0, '.', c=(0, 0, 0), ms=4)\n",
    "\n",
    "        if not (labels is None):\n",
    "            df[labels_name] = labels[idx]\n",
    "            if labels_order is None:\n",
    "                labels_order = np.unique(labels)\n",
    "            if coldict is None:\n",
    "                coldict = dict(zip(labels_order, col_palette[:len(labels)]))\n",
    "            sns.scatterplot(x=\"pm1\", y=\"pm2\", hue=labels_name, sizes=1,\n",
    "                            hue_order=labels_order,\n",
    "                            palette=coldict,\n",
    "                            alpha=alpha, edgecolor=\"none\",\n",
    "                            data=df, ax=ax, s=ms)\n",
    "            \n",
    "            if leg:\n",
    "                ax.legend(fontsize=fs, loc='best', bbox_to_anchor=bbox, facecolor='white')\n",
    "            else:\n",
    "                ax.legend_.remove()\n",
    "\n",
    "        else:\n",
    "            sns.scatterplot(x=\"pm1\", y=\"pm2\",\n",
    "                            data=df, ax=ax, s=ms)\n",
    "\n",
    "            if leg == False:\n",
    "                ax.legend_.remove()\n",
    "\n",
    "        if not (u is None):\n",
    "            a, b = self.get_geodesic_parameters(u, v)\n",
    "            circle_geo = plt.Circle((-a/2, -b/2), radius=np.sqrt(a**2/4 + b**2/4 - 1),  fc='none', color='grey')\n",
    "            ax.add_patch(circle_geo)\n",
    "\n",
    "        fig.tight_layout()\n",
    "        ax.axis('off')\n",
    "        ax.axis('equal')\n",
    "\n",
    "        if print_labels:\n",
    "            if labels_text is None:\n",
    "                labels_list = np.unique(labels)\n",
    "            else:\n",
    "                labels_list = np.unique(labels_text)\n",
    "            if labels_pos is None:\n",
    "                labels_pos = {}\n",
    "                for l in labels_list:\n",
    "                    ix_l = np.where(labels == l)[0]\n",
    "                    Dl = self.poincare_distance_dhv(torch.DoubleTensor(x[ix_l, :])).numpy()\n",
    "                    i = ix_l[np.argmin(Dl.sum(axis=0))]\n",
    "                    labels_pos[l] = i\n",
    "\n",
    "            for l in labels_list:\n",
    "                ax.text(x[labels_pos[l], 0], x[labels_pos[l], 1], l, fontsize=fs)\n",
    "                \n",
    "        if manifold != 'Euclidean':\n",
    "            ax.set_ylim([-1.01, 1.01])\n",
    "            ax.set_xlim([-1.01, 1.01])\n",
    "\n",
    "        plt.tight_layout()\n",
    "        plt.show()\n",
    "\n",
    "        # if ft == 'png':\n",
    "        #     plt.savefig('dv_result.' + ft, format=ft, dpi=600)\n",
    "\n",
    "        return labels_pos\n",
    "\n",
    "    def plot(self, pm_type='ori', labels=None, manifold=None,\n",
    "        labels_name='labels', print_labels=False, labels_text=None,\n",
    "        labels_order=None, coldict=None, alpha=1.0,\n",
    "        d1=4.5, d2=4.0, fs=9, ms=20, bbox=(1.3, 0.7), u=None, v=None, leg=True, ft='png'):                        \n",
    "        if pm_type == 'ori':\n",
    "            coordinates = self.coordinates\n",
    "            radius_new = np.sqrt(coordinates[:,0]**2 + coordinates[:,1]**2).max()\n",
    "        \n",
    "        elif pm_type == 'rot':\n",
    "            coordinates = self.coordinates_rotated\n",
    "            radius_new = np.sqrt(coordinates[:,0]**2 + coordinates[:,1]**2).max()\n",
    "\n",
    "        if labels_order is None:\n",
    "            labels_order = np.unique(labels)\n",
    "\n",
    "        self.labels_pos = self.plot_poincare_disc(coordinates, manifold=manifold, radius=radius_new, model_name=self.model_name,\n",
    "            print_labels=print_labels, labels_text=labels_text,\n",
    "            labels=labels, labels_name=labels_name, labels_order=labels_order, labels_pos = self.labels_pos,\n",
    "                    coldict=coldict, u=u, v=v, alpha=alpha,\n",
    "                    d1=d1, d2=d2, fs=fs, ms=ms, col_palette=self.colors_palette, bbox=bbox, leg=leg, ft=ft)"
   ]
  },
  {
   "cell_type": "code",
   "execution_count": 9,
   "metadata": {},
   "outputs": [],
   "source": [
    "if mod_config[\"manifold\"] == \"Hyperboloid\":\n",
    "    embedding = embedding[:, 1:3] / np.expand_dims(1 + embedding[:, 0], axis=1) # Lorentz space to Poincaré disk"
   ]
  },
  {
   "cell_type": "code",
   "execution_count": 14,
   "metadata": {},
   "outputs": [
    {
     "data": {
      "image/png": "[encoded data removed]",
      "text/plain": [
       "<Figure size 450x400 with 1 Axes>"
      ]
     },
     "metadata": {},
     "output_type": "display_data"
    }
   ],
   "source": [
    "model = PoincareMaps(embedding, model_name='dv')\n",
    "model.plot('ori', labels=label, manifold=mod_config[\"manifold\"], bbox=(1.1, 0.9), ms=0.5, coldict=None) # plot embedding on Poincaré disk"
   ]
  },
  {
   "cell_type": "markdown",
   "metadata": {},
   "source": [
    "This implementation and results are based on EVNet.\n",
    "```BibTeX\n",
    "@article{zang2022evnet,\n",
    "  title={Evnet: An explainable deep network for dimension reduction},\n",
    "  author={Zang, Zelin and Cheng, Shenghui and Lu, Linyan and Xia, Hanchen and Li, Liangyu and Sun, Yaoting and Xu, Yongjie and Shang, Lei and Sun, Baigui and Li, Stan Z},\n",
    "  journal={IEEE Transactions on Visualization and Computer Graphics},\n",
    "  year={2022},\n",
    "  publisher={IEEE}\n",
    "}\n",
    "```"
   ]
  },
  {
   "cell_type": "code",
   "execution_count": null,
   "metadata": {},
   "outputs": [],
   "source": []
  }
 ],
 "metadata": {
  "kernelspec": {
   "display_name": "torch1.10",
   "language": "python",
   "name": "python3"
  },
  "language_info": {
   "codemirror_mode": {
    "name": "ipython",
    "version": 3
   },
   "file_extension": ".py",
   "mimetype": "text/x-python",
   "name": "python",
   "nbconvert_exporter": "python",
   "pygments_lexer": "ipython3",
   "version": "3.8.13"
  },
  "orig_nbformat": 4
 },
 "nbformat": 4,
 "nbformat_minor": 2
}
